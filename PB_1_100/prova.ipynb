{
 "cells": [
  {
   "cell_type": "code",
   "execution_count": 24,
   "id": "13dd178a",
   "metadata": {},
   "outputs": [],
   "source": [
    "import numpy as np"
   ]
  },
  {
   "cell_type": "code",
   "execution_count": null,
   "id": "5ec57457",
   "metadata": {},
   "outputs": [
    {
     "name": "stdout",
     "output_type": "stream",
     "text": [
      "46998\n",
      "69690\n"
     ]
    }
   ],
   "source": [
    "def divisor(n):\n",
    "    div = [1]\n",
    "    for i in range(2,n):\n",
    "        if n % i == 0:\n",
    "            div.append(i)\n",
    "    return np.array(div).sum()\n"
   ]
  },
  {
   "cell_type": "code",
   "execution_count": null,
   "id": "c978b7aa",
   "metadata": {},
   "outputs": [],
   "source": []
  }
 ],
 "metadata": {
  "kernelspec": {
   "display_name": ".venv",
   "language": "python",
   "name": "python3"
  },
  "language_info": {
   "codemirror_mode": {
    "name": "ipython",
    "version": 3
   },
   "file_extension": ".py",
   "mimetype": "text/x-python",
   "name": "python",
   "nbconvert_exporter": "python",
   "pygments_lexer": "ipython3",
   "version": "3.12.3"
  }
 },
 "nbformat": 4,
 "nbformat_minor": 5
}
